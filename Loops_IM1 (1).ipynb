{
 "cells": [
  {
   "cell_type": "markdown",
   "id": "eb0b3ee4",
   "metadata": {},
   "source": [
    "# Loops"
   ]
  },
  {
   "cell_type": "markdown",
   "id": "9b9fd986",
   "metadata": {},
   "source": [
    "\n",
    "    FOR loop\n",
    "    While loop\n"
   ]
  },
  {
   "cell_type": "code",
   "execution_count": 1,
   "id": "508db5d5",
   "metadata": {},
   "outputs": [
    {
     "name": "stdout",
     "output_type": "stream",
     "text": [
      "[0, 1, 2, 3, 4, 5, 67, 8, 987, 90]\n"
     ]
    }
   ],
   "source": [
    "simple_list=[0,1,2,3,4,5,67,8,987,90]\n",
    "print(simple_list)"
   ]
  },
  {
   "cell_type": "code",
   "execution_count": 6,
   "id": "1cb1fcb8",
   "metadata": {},
   "outputs": [
    {
     "name": "stdout",
     "output_type": "stream",
     "text": [
      "0\n",
      "1\n",
      "2\n",
      "3\n",
      "4\n",
      "5\n",
      "67\n",
      "8\n",
      "987\n",
      "90\n"
     ]
    }
   ],
   "source": [
    "for i in simple_list:\n",
    "    print(i)"
   ]
  },
  {
   "cell_type": "code",
   "execution_count": 7,
   "id": "a85b4ce9",
   "metadata": {},
   "outputs": [
    {
     "name": "stdout",
     "output_type": "stream",
     "text": [
      "5\n",
      "67\n",
      "8\n",
      "987\n",
      "10\n",
      "134\n",
      "16\n",
      "1974\n",
      "15\n",
      "201\n",
      "24\n",
      "2961\n",
      "20\n",
      "268\n",
      "32\n",
      "3948\n"
     ]
    }
   ],
   "source": [
    "for i in simple_list[1:5]:\n",
    "    for j in simple_list[5:9]:\n",
    "        print(i*j)"
   ]
  },
  {
   "cell_type": "code",
   "execution_count": 8,
   "id": "36f81089",
   "metadata": {},
   "outputs": [
    {
     "name": "stdout",
     "output_type": "stream",
     "text": [
      "range(0, 6)\n"
     ]
    }
   ],
   "source": [
    "# Looping over a range of values\n",
    "print(range(6))"
   ]
  },
  {
   "cell_type": "code",
   "execution_count": 10,
   "id": "3ac405be",
   "metadata": {},
   "outputs": [
    {
     "name": "stdout",
     "output_type": "stream",
     "text": [
      "0\n",
      "1\n",
      "2\n",
      "3\n",
      "4\n",
      "5\n"
     ]
    }
   ],
   "source": [
    "for i in range(6):\n",
    "    print(i)"
   ]
  },
  {
   "cell_type": "code",
   "execution_count": 11,
   "id": "75dbb9ae",
   "metadata": {},
   "outputs": [
    {
     "name": "stdout",
     "output_type": "stream",
     "text": [
      "4\n",
      "5\n",
      "6\n",
      "7\n",
      "8\n",
      "9\n"
     ]
    }
   ],
   "source": [
    "# range with starting and end value\n",
    "for i in range(4,10):\n",
    "    print(i)"
   ]
  },
  {
   "cell_type": "code",
   "execution_count": 12,
   "id": "b51c0577",
   "metadata": {},
   "outputs": [
    {
     "name": "stdout",
     "output_type": "stream",
     "text": [
      "4\n",
      "6\n",
      "8\n",
      "10\n",
      "12\n",
      "14\n",
      "16\n",
      "18\n"
     ]
    }
   ],
   "source": [
    "# Range with increment of 2\n",
    "for i in range(4,20,2):\n",
    "    print(i)"
   ]
  },
  {
   "cell_type": "code",
   "execution_count": 3,
   "id": "7ccfb6bc",
   "metadata": {},
   "outputs": [],
   "source": [
    "#Printing square from 1 to 10 using a for loop"
   ]
  },
  {
   "cell_type": "code",
   "execution_count": 18,
   "id": "f1d900d7",
   "metadata": {},
   "outputs": [
    {
     "name": "stdout",
     "output_type": "stream",
     "text": [
      "Square of 1 is 1\n",
      "Square of 2 is 4\n",
      "Square of 3 is 9\n",
      "Square of 4 is 16\n",
      "Square of 5 is 25\n",
      "Square of 6 is 36\n",
      "Square of 7 is 49\n",
      "Square of 8 is 64\n",
      "Square of 9 is 81\n",
      "Square of 10 is 100\n"
     ]
    }
   ],
   "source": [
    "x=[1,2,3,4,5,6,7,8,9,10]\n",
    "for i in x:\n",
    "    print('Square of {} is {}'.format(i,i*i))"
   ]
  },
  {
   "cell_type": "code",
   "execution_count": 17,
   "id": "f8932cc1",
   "metadata": {},
   "outputs": [
    {
     "name": "stdout",
     "output_type": "stream",
     "text": [
      "Square of 0 is 0\n",
      "Square of 1 is 1\n",
      "Square of 2 is 4\n",
      "Square of 3 is 9\n",
      "Square of 4 is 16\n",
      "Square of 5 is 25\n",
      "Square of 6 is 36\n",
      "Square of 7 is 49\n",
      "Square of 8 is 64\n",
      "Square of 9 is 81\n",
      "Square of 10 is 100\n"
     ]
    }
   ],
   "source": [
    "#f'' can be used instead of a .format\n",
    "x=range(11)\n",
    "for i in x:\n",
    "    print(f'Square of {i} is {i*i}')"
   ]
  },
  {
   "cell_type": "markdown",
   "id": "0886ef62",
   "metadata": {},
   "source": [
    "### Using IF-ELSE with for Loop"
   ]
  },
  {
   "cell_type": "code",
   "execution_count": 21,
   "id": "824e73e8",
   "metadata": {},
   "outputs": [
    {
     "name": "stdout",
     "output_type": "stream",
     "text": [
      "Square of even number 0 is 0\n",
      "Square of even number 2 is 4\n",
      "Square of even number 4 is 16\n",
      "Square of even number 6 is 36\n",
      "Square of even number 8 is 64\n",
      "Square of even number 10 is 100\n",
      "Square of even number 12 is 144\n",
      "Square of even number 14 is 196\n",
      "Square of even number 16 is 256\n",
      "Square of even number 18 is 324\n",
      "Square of even number 20 is 400\n",
      "Square of even number 22 is 484\n",
      "Square of even number 24 is 576\n",
      "Square of even number 26 is 676\n",
      "Square of even number 28 is 784\n",
      "Square of even number 30 is 900\n",
      "Square of even number 32 is 1024\n",
      "Square of even number 34 is 1156\n",
      "Square of even number 36 is 1296\n",
      "Square of even number 38 is 1444\n",
      "Square of even number 40 is 1600\n",
      "Square of even number 42 is 1764\n",
      "Square of even number 44 is 1936\n",
      "Square of even number 46 is 2116\n",
      "Square of even number 48 is 2304\n",
      "Square of even number 50 is 2500\n",
      "Square of even number 52 is 2704\n",
      "Square of even number 54 is 2916\n",
      "Square of even number 56 is 3136\n",
      "Square of even number 58 is 3364\n",
      "Square of even number 60 is 3600\n",
      "Square of even number 62 is 3844\n",
      "Square of even number 64 is 4096\n",
      "Square of even number 66 is 4356\n",
      "Square of even number 68 is 4624\n",
      "Square of even number 70 is 4900\n",
      "Square of even number 72 is 5184\n",
      "Square of even number 74 is 5476\n",
      "Square of even number 76 is 5776\n",
      "Square of even number 78 is 6084\n",
      "Square of even number 80 is 6400\n",
      "Square of even number 82 is 6724\n",
      "Square of even number 84 is 7056\n",
      "Square of even number 86 is 7396\n",
      "Square of even number 88 is 7744\n",
      "Square of even number 90 is 8100\n",
      "Square of even number 92 is 8464\n",
      "Square of even number 94 is 8836\n",
      "Square of even number 96 is 9216\n",
      "Square of even number 98 is 9604\n",
      "Square of even number 100 is 10000\n"
     ]
    }
   ],
   "source": [
    "#Printing squares of even numbers from 1 to 100\n",
    "x=range(101)\n",
    "for i in x:\n",
    "    if i%2==0:\n",
    "        print(f'Square of even number {i} is {i*i}')"
   ]
  },
  {
   "cell_type": "code",
   "execution_count": 22,
   "id": "4c473b9a",
   "metadata": {},
   "outputs": [
    {
     "name": "stdout",
     "output_type": "stream",
     "text": [
      "Square of odd number 1 is 1\n",
      "Square of odd number 3 is 9\n",
      "Square of odd number 5 is 25\n",
      "Square of odd number 7 is 49\n",
      "Square of odd number 9 is 81\n",
      "Square of odd number 11 is 121\n",
      "Square of odd number 13 is 169\n",
      "Square of odd number 15 is 225\n",
      "Square of odd number 17 is 289\n",
      "Square of odd number 19 is 361\n",
      "Square of odd number 21 is 441\n",
      "Square of odd number 23 is 529\n",
      "Square of odd number 25 is 625\n",
      "Square of odd number 27 is 729\n",
      "Square of odd number 29 is 841\n",
      "Square of odd number 31 is 961\n",
      "Square of odd number 33 is 1089\n",
      "Square of odd number 35 is 1225\n",
      "Square of odd number 37 is 1369\n",
      "Square of odd number 39 is 1521\n",
      "Square of odd number 41 is 1681\n",
      "Square of odd number 43 is 1849\n",
      "Square of odd number 45 is 2025\n",
      "Square of odd number 47 is 2209\n",
      "Square of odd number 49 is 2401\n",
      "Square of odd number 51 is 2601\n",
      "Square of odd number 53 is 2809\n",
      "Square of odd number 55 is 3025\n",
      "Square of odd number 57 is 3249\n",
      "Square of odd number 59 is 3481\n",
      "Square of odd number 61 is 3721\n",
      "Square of odd number 63 is 3969\n",
      "Square of odd number 65 is 4225\n",
      "Square of odd number 67 is 4489\n",
      "Square of odd number 69 is 4761\n",
      "Square of odd number 71 is 5041\n",
      "Square of odd number 73 is 5329\n",
      "Square of odd number 75 is 5625\n",
      "Square of odd number 77 is 5929\n",
      "Square of odd number 79 is 6241\n",
      "Square of odd number 81 is 6561\n",
      "Square of odd number 83 is 6889\n",
      "Square of odd number 85 is 7225\n",
      "Square of odd number 87 is 7569\n",
      "Square of odd number 89 is 7921\n",
      "Square of odd number 91 is 8281\n",
      "Square of odd number 93 is 8649\n",
      "Square of odd number 95 is 9025\n",
      "Square of odd number 97 is 9409\n",
      "Square of odd number 99 is 9801\n"
     ]
    }
   ],
   "source": [
    "#Printing squares of odd numbers from 1 to 100\n",
    "x=range(101)\n",
    "for i in x:\n",
    "    if i%2==1:\n",
    "        print(f'Square of odd number {i} is {i*i}')"
   ]
  },
  {
   "cell_type": "markdown",
   "id": "fa3a1f0f",
   "metadata": {},
   "source": [
    "## While Loop"
   ]
  },
  {
   "cell_type": "code",
   "execution_count": 23,
   "id": "3579345c",
   "metadata": {},
   "outputs": [
    {
     "name": "stdout",
     "output_type": "stream",
     "text": [
      "5\n",
      "6\n",
      "7\n",
      "8\n",
      "9\n"
     ]
    }
   ],
   "source": [
    "i=5\n",
    "while i<10:\n",
    "    print(i)\n",
    "    i=i+1"
   ]
  },
  {
   "cell_type": "code",
   "execution_count": 1,
   "id": "212cfa11",
   "metadata": {},
   "outputs": [
    {
     "name": "stdout",
     "output_type": "stream",
     "text": [
      "Square of 0 is 0\n",
      "Square of 1 is 1\n",
      "Square of 2 is 4\n",
      "Square of 3 is 9\n",
      "Square of 4 is 16\n",
      "Square of 5 is 25\n",
      "Square of 6 is 36\n",
      "Square of 7 is 49\n",
      "Square of 8 is 64\n",
      "Square of 9 is 81\n",
      "Square of 10 is 100\n"
     ]
    }
   ],
   "source": [
    "#Printing square from 1 to 10\n",
    "i=0\n",
    "while i<=10:\n",
    "    print(f'Square of {i} is {i*i}')\n",
    "    i=i+1"
   ]
  },
  {
   "cell_type": "markdown",
   "id": "bed1279e",
   "metadata": {},
   "source": [
    "### Using IF-ELSE with `while` Loop"
   ]
  },
  {
   "cell_type": "code",
   "execution_count": 3,
   "id": "bcb0965e",
   "metadata": {},
   "outputs": [
    {
     "name": "stdout",
     "output_type": "stream",
     "text": [
      "Square of even number 0 is 0\n",
      "Square of even number 2 is 4\n",
      "Square of even number 4 is 16\n",
      "Square of even number 6 is 36\n",
      "Square of even number 8 is 64\n",
      "Square of even number 10 is 100\n",
      "Square of even number 12 is 144\n",
      "Square of even number 14 is 196\n",
      "Square of even number 16 is 256\n",
      "Square of even number 18 is 324\n",
      "Square of even number 20 is 400\n",
      "Square of even number 22 is 484\n",
      "Square of even number 24 is 576\n",
      "Square of even number 26 is 676\n",
      "Square of even number 28 is 784\n",
      "Square of even number 30 is 900\n",
      "Square of even number 32 is 1024\n",
      "Square of even number 34 is 1156\n",
      "Square of even number 36 is 1296\n",
      "Square of even number 38 is 1444\n",
      "Square of even number 40 is 1600\n",
      "Square of even number 42 is 1764\n",
      "Square of even number 44 is 1936\n",
      "Square of even number 46 is 2116\n",
      "Square of even number 48 is 2304\n",
      "Square of even number 50 is 2500\n",
      "Square of even number 52 is 2704\n",
      "Square of even number 54 is 2916\n",
      "Square of even number 56 is 3136\n",
      "Square of even number 58 is 3364\n",
      "Square of even number 60 is 3600\n",
      "Square of even number 62 is 3844\n",
      "Square of even number 64 is 4096\n",
      "Square of even number 66 is 4356\n",
      "Square of even number 68 is 4624\n",
      "Square of even number 70 is 4900\n",
      "Square of even number 72 is 5184\n",
      "Square of even number 74 is 5476\n",
      "Square of even number 76 is 5776\n",
      "Square of even number 78 is 6084\n",
      "Square of even number 80 is 6400\n",
      "Square of even number 82 is 6724\n",
      "Square of even number 84 is 7056\n",
      "Square of even number 86 is 7396\n",
      "Square of even number 88 is 7744\n",
      "Square of even number 90 is 8100\n",
      "Square of even number 92 is 8464\n",
      "Square of even number 94 is 8836\n",
      "Square of even number 96 is 9216\n",
      "Square of even number 98 is 9604\n",
      "Square of even number 100 is 10000\n"
     ]
    }
   ],
   "source": [
    "#Printing squares of even numbers from 1 to 100\n",
    "i=0\n",
    "while i<101:\n",
    "    if i%2==0:\n",
    "        print(f'Square of even number {i} is {i*i}')\n",
    "    i=i+1"
   ]
  },
  {
   "cell_type": "code",
   "execution_count": null,
   "id": "9276ea3f",
   "metadata": {},
   "outputs": [
    {
     "name": "stdout",
     "output_type": "stream",
     "text": [
      "enter a user name abcd\n",
      "enter password 1234\n",
      "Login success\n",
      "enter a user name defg\n",
      "enter password 1234\n",
      "Login Failed\n"
     ]
    }
   ],
   "source": [
    "# while loop for access permission\n",
    "while True:\n",
    "    user_id=input('enter a user name ')\n",
    "    password=int(input('enter password '))\n",
    "    if user_id=='abcd' and password==1234:\n",
    "        print('Login success')\n",
    "    else:\n",
    "        print('Login Failed')\n",
    "        "
   ]
  },
  {
   "cell_type": "markdown",
   "id": "53762d80",
   "metadata": {},
   "source": [
    "## You gotta use your python skills to help your local shopkeeper calculate the Net Price for his shop's product provided below along with it's respective GST slab"
   ]
  },
  {
   "cell_type": "markdown",
   "id": "42dbc08f",
   "metadata": {},
   "source": [
    "GST Amount = ( Original Cost * GST ) / 100\n",
    "\n",
    "Net Price = Original Cost + GST Amount"
   ]
  },
  {
   "cell_type": "markdown",
   "id": "a2e948d2",
   "metadata": {},
   "source": [
    "Product Cost / GST Slab\n",
    "\n",
    "Product1- 1000 / 18%\n",
    "\n",
    "Product2- 250 / 18%\n",
    "\n",
    "Product3- 125 / 5%\n",
    "\n",
    "Product4- 345 / 18%\n",
    "\n",
    "Product5- 820 / 12%\n",
    "\n",
    "Product6- 980 / 5%\n",
    "\n",
    "Product7- 500 / 12%"
   ]
  },
  {
   "cell_type": "code",
   "execution_count": 4,
   "id": "cfbe8fdf",
   "metadata": {},
   "outputs": [],
   "source": [
    "# Hint Create a dictionary and loop"
   ]
  },
  {
   "cell_type": "code",
   "execution_count": 1,
   "id": "1fb8cfd5",
   "metadata": {},
   "outputs": [],
   "source": [
    "product_gst_slabs={'Product1':18,'Product2':18,'Product3':5,'Product4':18,'Product5':12,'Product6':5,'Product7':12}\n",
    "product_original_cost={'Product1':1000,'Product2':250,'Product3':125,'Product4':345,'Product5':820,'Product6':980,'Product7':500}"
   ]
  },
  {
   "cell_type": "code",
   "execution_count": 2,
   "id": "787e79c4",
   "metadata": {},
   "outputs": [
    {
     "data": {
      "text/plain": [
       "dict_keys(['Product1', 'Product2', 'Product3', 'Product4', 'Product5', 'Product6', 'Product7'])"
      ]
     },
     "execution_count": 2,
     "metadata": {},
     "output_type": "execute_result"
    }
   ],
   "source": [
    "product_gst_slabs.keys()"
   ]
  },
  {
   "cell_type": "code",
   "execution_count": 6,
   "id": "fc6f512c",
   "metadata": {},
   "outputs": [
    {
     "name": "stdout",
     "output_type": "stream",
     "text": [
      "The net price of Product1 at gst 18% is 1180.0\n",
      "The net price of Product2 at gst 18% is 295.0\n",
      "The net price of Product3 at gst 5% is 131.25\n",
      "The net price of Product4 at gst 18% is 407.1\n",
      "The net price of Product5 at gst 12% is 918.4\n",
      "The net price of Product6 at gst 5% is 1029.0\n",
      "The net price of Product7 at gst 12% is 560.0\n"
     ]
    }
   ],
   "source": [
    "for i in product_gst_slabs.keys():\n",
    "    gst_amount=(product_original_cost[i]*product_gst_slabs[i])/100\n",
    "    Net_price=(product_original_cost[i]+gst_amount)\n",
    "    print('The net price of {} at gst {}% is {}' .format(i,product_gst_slabs[i],Net_price))"
   ]
  },
  {
   "cell_type": "code",
   "execution_count": null,
   "id": "b9dc1065",
   "metadata": {},
   "outputs": [],
   "source": []
  },
  {
   "cell_type": "code",
   "execution_count": null,
   "id": "4dcd54c0",
   "metadata": {},
   "outputs": [],
   "source": []
  },
  {
   "cell_type": "code",
   "execution_count": null,
   "id": "d4091102",
   "metadata": {},
   "outputs": [],
   "source": []
  },
  {
   "cell_type": "markdown",
   "id": "7f6ff590",
   "metadata": {},
   "source": [
    "# User defined functions"
   ]
  },
  {
   "cell_type": "code",
   "execution_count": null,
   "id": "535e89b8",
   "metadata": {},
   "outputs": [],
   "source": [
    "# # define a function that takes an input, squares it, adds 7, then returns the answer"
   ]
  },
  {
   "cell_type": "code",
   "execution_count": 1,
   "id": "dd391669",
   "metadata": {},
   "outputs": [],
   "source": [
    "def x2p7(x):\n",
    "    y=x*x\n",
    "    z=y+7\n",
    "    return(z)"
   ]
  },
  {
   "cell_type": "code",
   "execution_count": 3,
   "id": "010be74a",
   "metadata": {},
   "outputs": [
    {
     "data": {
      "text/plain": [
       "56"
      ]
     },
     "execution_count": 3,
     "metadata": {},
     "output_type": "execute_result"
    }
   ],
   "source": [
    "x2p7(7)"
   ]
  },
  {
   "cell_type": "code",
   "execution_count": null,
   "id": "1f62ab18",
   "metadata": {},
   "outputs": [],
   "source": [
    "# Write a function to add and subtract two variables"
   ]
  },
  {
   "cell_type": "code",
   "execution_count": 9,
   "id": "df529143",
   "metadata": {},
   "outputs": [],
   "source": [
    "def math_fun(x,y):\n",
    "    add= x+y\n",
    "    sub=x-y\n",
    "    return add,sub"
   ]
  },
  {
   "cell_type": "code",
   "execution_count": 10,
   "id": "9feac88d",
   "metadata": {},
   "outputs": [
    {
     "data": {
      "text/plain": [
       "(10, 2)"
      ]
     },
     "execution_count": 10,
     "metadata": {},
     "output_type": "execute_result"
    }
   ],
   "source": [
    "math_fun(6,4)"
   ]
  },
  {
   "cell_type": "code",
   "execution_count": 18,
   "id": "dee35a68",
   "metadata": {},
   "outputs": [],
   "source": [
    "def evenodd(x):\n",
    "    if x%2==0:\n",
    "        print('even number')\n",
    "    else:\n",
    "        print('odd number')"
   ]
  },
  {
   "cell_type": "code",
   "execution_count": 13,
   "id": "17094ff4",
   "metadata": {},
   "outputs": [
    {
     "name": "stdout",
     "output_type": "stream",
     "text": [
      "odd number\n"
     ]
    }
   ],
   "source": [
    "evenodd(5)"
   ]
  },
  {
   "cell_type": "code",
   "execution_count": 8,
   "id": "f716e77f",
   "metadata": {},
   "outputs": [],
   "source": [
    "### Write a UDF that returns true if the input is a prime number and False otherwise."
   ]
  },
  {
   "cell_type": "code",
   "execution_count": 19,
   "id": "5894ec70",
   "metadata": {},
   "outputs": [],
   "source": [
    "def prime(n):\n",
    "    if (n==1):\n",
    "        return False\n",
    "    elif (n==2):\n",
    "        return True\n",
    "    else:\n",
    "        for x in range(2,n):\n",
    "            if (n%x==0):\n",
    "                return False\n",
    "            return True"
   ]
  },
  {
   "cell_type": "code",
   "execution_count": 21,
   "id": "427fc1b0",
   "metadata": {},
   "outputs": [
    {
     "data": {
      "text/plain": [
       "True"
      ]
     },
     "execution_count": 21,
     "metadata": {},
     "output_type": "execute_result"
    }
   ],
   "source": [
    "prime(7)"
   ]
  },
  {
   "cell_type": "code",
   "execution_count": 20,
   "id": "04a1b3d4",
   "metadata": {},
   "outputs": [],
   "source": [
    "### Write a UDF that takes a list as input and returns the reverse list."
   ]
  },
  {
   "cell_type": "code",
   "execution_count": null,
   "id": "fa68c070",
   "metadata": {},
   "outputs": [],
   "source": [
    "def reversing(listing):\n",
    "    listing.reverse()\n",
    "    return lst"
   ]
  },
  {
   "cell_type": "code",
   "execution_count": null,
   "id": "0a64ed6f",
   "metadata": {},
   "outputs": [],
   "source": [
    "lst=[657,8,12,23,87,45]"
   ]
  },
  {
   "cell_type": "code",
   "execution_count": 22,
   "id": "8c5d43bf",
   "metadata": {},
   "outputs": [
    {
     "name": "stdout",
     "output_type": "stream",
     "text": [
      "16\n"
     ]
    }
   ],
   "source": [
    "# lambda function\n",
    "lamx2p7=lambda x: x*x+7\n",
    "print(lamx2p7(3))"
   ]
  },
  {
   "cell_type": "code",
   "execution_count": 23,
   "id": "cbb53586",
   "metadata": {},
   "outputs": [
    {
     "name": "stdout",
     "output_type": "stream",
     "text": [
      "90.5\n"
     ]
    }
   ],
   "source": [
    "lam1=lambda x,y,z: x*y+y*z+y/z\n",
    "print(lam1(3,6,12))"
   ]
  },
  {
   "cell_type": "code",
   "execution_count": 24,
   "id": "cc48b20d",
   "metadata": {},
   "outputs": [
    {
     "data": {
      "text/plain": [
       "640.1052631578947"
      ]
     },
     "execution_count": 24,
     "metadata": {},
     "output_type": "execute_result"
    }
   ],
   "source": [
    "lam1(4,8,76)"
   ]
  },
  {
   "cell_type": "code",
   "execution_count": null,
   "id": "14b2bfef",
   "metadata": {},
   "outputs": [],
   "source": []
  }
 ],
 "metadata": {
  "kernelspec": {
   "display_name": "Python 3 (ipykernel)",
   "language": "python",
   "name": "python3"
  },
  "language_info": {
   "codemirror_mode": {
    "name": "ipython",
    "version": 3
   },
   "file_extension": ".py",
   "mimetype": "text/x-python",
   "name": "python",
   "nbconvert_exporter": "python",
   "pygments_lexer": "ipython3",
   "version": "3.9.13"
  }
 },
 "nbformat": 4,
 "nbformat_minor": 5
}

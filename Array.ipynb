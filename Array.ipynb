{
 "cells": [
  {
   "cell_type": "markdown",
   "id": "764540f8",
   "metadata": {},
   "source": [
    "# Array"
   ]
  },
  {
   "cell_type": "code",
   "execution_count": 3,
   "id": "669915f9",
   "metadata": {},
   "outputs": [],
   "source": [
    "# create An array\n",
    "import numpy as np"
   ]
  },
  {
   "cell_type": "code",
   "execution_count": 5,
   "id": "b0ea718e",
   "metadata": {},
   "outputs": [
    {
     "name": "stdout",
     "output_type": "stream",
     "text": [
      "[1 2 3 4]\n"
     ]
    }
   ],
   "source": [
    "arr=np.array([1,2,3,4])\n",
    "print (arr)"
   ]
  },
  {
   "cell_type": "code",
   "execution_count": 6,
   "id": "2037ad2d",
   "metadata": {},
   "outputs": [
    {
     "name": "stdout",
     "output_type": "stream",
     "text": [
      "23\n"
     ]
    }
   ],
   "source": [
    "# 0-Dim array\n",
    "arr=np.array(23)\n",
    "print(arr)"
   ]
  },
  {
   "cell_type": "code",
   "execution_count": 7,
   "id": "66c9ccf6",
   "metadata": {},
   "outputs": [
    {
     "name": "stdout",
     "output_type": "stream",
     "text": [
      "23\n"
     ]
    }
   ],
   "source": [
    "# 1-D array\n",
    "arr+np.array([1,2,3,4])\n",
    "print(arr)"
   ]
  },
  {
   "cell_type": "code",
   "execution_count": 9,
   "id": "8c125294",
   "metadata": {},
   "outputs": [
    {
     "name": "stdout",
     "output_type": "stream",
     "text": [
      "[[1 2 3 4]\n",
      " [5 6 7 8]]\n"
     ]
    }
   ],
   "source": [
    "# 2-D array\n",
    "arr=np.array([[1,2,3,4],[5,6,7,8]])\n",
    "print(arr)"
   ]
  },
  {
   "cell_type": "code",
   "execution_count": 10,
   "id": "0e54042e",
   "metadata": {},
   "outputs": [
    {
     "name": "stdout",
     "output_type": "stream",
     "text": [
      "[[[ 1  2  3  4]\n",
      "  [ 5  6  7  8]]\n",
      "\n",
      " [[ 9 10 11 12]\n",
      "  [13 14 15 16]]]\n"
     ]
    }
   ],
   "source": [
    "# 3-D array\n",
    "arr=np.array([[[1,2,3,4],[5,6,7,8]],[[9,10,11,12],[13,14,15,16]]])\n",
    "print(arr)"
   ]
  },
  {
   "cell_type": "code",
   "execution_count": 12,
   "id": "4fb8cc89",
   "metadata": {},
   "outputs": [
    {
     "data": {
      "text/plain": [
       "3"
      ]
     },
     "execution_count": 12,
     "metadata": {},
     "output_type": "execute_result"
    }
   ],
   "source": [
    "arr.ndim"
   ]
  },
  {
   "cell_type": "code",
   "execution_count": 13,
   "id": "53680f0d",
   "metadata": {},
   "outputs": [
    {
     "name": "stdout",
     "output_type": "stream",
     "text": [
      "[[[[[1 2 3 4]]]]]\n"
     ]
    }
   ],
   "source": [
    "#Multi-dimensional array\n",
    "arr=np.array([1,2,3,4],ndmin=5)\n",
    "print(arr)"
   ]
  },
  {
   "cell_type": "code",
   "execution_count": 14,
   "id": "258fd9d1",
   "metadata": {},
   "outputs": [
    {
     "name": "stdout",
     "output_type": "stream",
     "text": [
      "[1 2 3 4]\n"
     ]
    }
   ],
   "source": [
    "#Accessing an array\n",
    "my_array=np.array([1,2,3,4])\n",
    "print(my_array)"
   ]
  },
  {
   "cell_type": "code",
   "execution_count": 17,
   "id": "1dbdfd4c",
   "metadata": {},
   "outputs": [
    {
     "name": "stdout",
     "output_type": "stream",
     "text": [
      "['1' '2' '3' '4']\n"
     ]
    }
   ],
   "source": [
    "#Upcasting data types\n",
    "my_array=np.array([1,2,3,'4'])\n",
    "print(my_array)"
   ]
  },
  {
   "cell_type": "code",
   "execution_count": 18,
   "id": "1cd723db",
   "metadata": {},
   "outputs": [
    {
     "name": "stdout",
     "output_type": "stream",
     "text": [
      "[1.  2.  3.  4.5]\n"
     ]
    }
   ],
   "source": [
    "my_array=np.array([1,2,3,4.5])\n",
    "print(my_array)"
   ]
  },
  {
   "cell_type": "code",
   "execution_count": 19,
   "id": "839867d5",
   "metadata": {},
   "outputs": [
    {
     "name": "stdout",
     "output_type": "stream",
     "text": [
      "1\n"
     ]
    }
   ],
   "source": [
    "my_array=np.array([1,2,3,4])\n",
    "print(my_array[0])"
   ]
  },
  {
   "cell_type": "code",
   "execution_count": 21,
   "id": "ee2d8e5c",
   "metadata": {},
   "outputs": [
    {
     "name": "stdout",
     "output_type": "stream",
     "text": [
      "[1 2]\n"
     ]
    }
   ],
   "source": [
    "my_array=np.array([1,2,3,4])\n",
    "print(my_array[0:2])"
   ]
  },
  {
   "cell_type": "code",
   "execution_count": 26,
   "id": "48e0eabc",
   "metadata": {},
   "outputs": [
    {
     "name": "stdout",
     "output_type": "stream",
     "text": [
      "[5 6]\n"
     ]
    }
   ],
   "source": [
    "#Using index on a 2-D array\n",
    "my_array=np.array([[1,2,3,4],[5,6,7,8]])\n",
    "print(my_array[1,0:2])"
   ]
  },
  {
   "cell_type": "code",
   "execution_count": null,
   "id": "5771d81d",
   "metadata": {},
   "outputs": [],
   "source": [
    "#Array VS Lists"
   ]
  },
  {
   "cell_type": "code",
   "execution_count": 27,
   "id": "108c50e7",
   "metadata": {},
   "outputs": [
    {
     "name": "stdout",
     "output_type": "stream",
     "text": [
      "LIST:[1, 2, 3, 4, 5, 6, 7, 8]\n"
     ]
    }
   ],
   "source": [
    "my_list1=[1,2,3,4]\n",
    "my_list2=[5,6,7,8]\n",
    "print(f'LIST:{my_list1+my_list2}')"
   ]
  },
  {
   "cell_type": "code",
   "execution_count": 29,
   "id": "d9f959d9",
   "metadata": {},
   "outputs": [
    {
     "name": "stdout",
     "output_type": "stream",
     "text": [
      "ARRAY:[ 6  8 10 12]\n"
     ]
    }
   ],
   "source": [
    "my_array1=np.array([1,2,3,4])\n",
    "my_array2=np.array([5,6,7,8])\n",
    "print(f'ARRAY:{my_array1+my_array2}')"
   ]
  },
  {
   "cell_type": "code",
   "execution_count": 35,
   "id": "75cd71e9",
   "metadata": {},
   "outputs": [
    {
     "name": "stdout",
     "output_type": "stream",
     "text": [
      "LIST:8\n"
     ]
    }
   ],
   "source": [
    "# Adding a single element\n",
    "my_list1=[1,2,3,4]\n",
    "my_list2=[5,6,7,8]\n",
    "print(f'LIST:{my_list1[1]+my_list2[1]}')"
   ]
  },
  {
   "cell_type": "code",
   "execution_count": 36,
   "id": "f1083a69",
   "metadata": {},
   "outputs": [
    {
     "name": "stdout",
     "output_type": "stream",
     "text": [
      "ARRAY:8\n"
     ]
    }
   ],
   "source": [
    "my_array1=np.array([1,2,3,4])\n",
    "my_array2=np.array([5,6,7,8])\n",
    "print(f'ARRAY:{my_array1[1]+my_array2[1]}')"
   ]
  },
  {
   "cell_type": "code",
   "execution_count": 43,
   "id": "1aafe77b",
   "metadata": {},
   "outputs": [
    {
     "name": "stdout",
     "output_type": "stream",
     "text": [
      "ARRAY:[    1    64  2187 65536]\n"
     ]
    }
   ],
   "source": [
    "my_array1=np.array([1,2,3,4])\n",
    "my_array2=np.array([5,6,7,8])\n",
    "print(f'ARRAY:{my_array1**my_array2}')"
   ]
  },
  {
   "cell_type": "code",
   "execution_count": 48,
   "id": "d3c9229f",
   "metadata": {},
   "outputs": [
    {
     "name": "stdout",
     "output_type": "stream",
     "text": [
      "original Array:[ 1 55  3  4]\n",
      "Copied Array:[1 2 3 4]\n"
     ]
    }
   ],
   "source": [
    "# copy of an array using .copy()\n",
    "my_array=np.array([1,2,3,4])\n",
    "array_copy=my_array.copy()\n",
    "my_array[1]=55\n",
    "print(f'original Array:{my_array}')\n",
    "print(f'Copied Array:{array_copy}')"
   ]
  },
  {
   "cell_type": "code",
   "execution_count": 49,
   "id": "8d958b7c",
   "metadata": {},
   "outputs": [
    {
     "name": "stdout",
     "output_type": "stream",
     "text": [
      "original Array:[ 1 55  3  4]\n",
      "viewed Array:[ 1 55  3  4]\n"
     ]
    }
   ],
   "source": [
    "# View in an array\n",
    "# Copy an array using .copy()\n",
    "my_array=np.array([1,2,3,4])\n",
    "viewed_copy=my_array.view()\n",
    "my_array[1]=55\n",
    "print(f'original Array:{my_array}')\n",
    "print(f'viewed Array:{viewed_copy}')"
   ]
  },
  {
   "cell_type": "code",
   "execution_count": 45,
   "id": "eee1c0d9",
   "metadata": {},
   "outputs": [
    {
     "ename": "SyntaxError",
     "evalue": "invalid syntax (1909586235.py, line 3)",
     "output_type": "error",
     "traceback": [
      "\u001b[1;36m  File \u001b[1;32m\"C:\\Users\\kumar\\AppData\\Local\\Temp\\ipykernel_26896\\1909586235.py\"\u001b[1;36m, line \u001b[1;32m3\u001b[0m\n\u001b[1;33m    for x in my array:\u001b[0m\n\u001b[1;37m                ^\u001b[0m\n\u001b[1;31mSyntaxError\u001b[0m\u001b[1;31m:\u001b[0m invalid syntax\n"
     ]
    }
   ],
   "source": [
    "# Iterating an array\n",
    "my_array=np.array([1,2,3,4])\n",
    "for x in my array:\n",
    "    print(x)"
   ]
  },
  {
   "cell_type": "code",
   "execution_count": 47,
   "id": "442a9523",
   "metadata": {},
   "outputs": [
    {
     "name": "stdout",
     "output_type": "stream",
     "text": [
      "[[ 1  2  3  4  9 10 11 12]\n",
      " [ 5  6  7  8 13 14 15 16]]\n"
     ]
    }
   ],
   "source": [
    "# joining 2 arrays\n",
    "my_array1=np.array([[1,2,3,4],[5,6,7,8]])\n",
    "my_array2=np.array([[9,10,11,12],[13,14,15,16]])\n",
    "print(np.concatenate((my_array1,my_array2),axis=1))"
   ]
  },
  {
   "cell_type": "code",
   "execution_count": null,
   "id": "300de68a",
   "metadata": {},
   "outputs": [],
   "source": [
    "# Joining using stack\n"
   ]
  },
  {
   "cell_type": "code",
   "execution_count": 50,
   "id": "19d50009",
   "metadata": {},
   "outputs": [
    {
     "name": "stdout",
     "output_type": "stream",
     "text": [
      "[array([1, 2]), array([3, 4])]\n"
     ]
    }
   ],
   "source": [
    "# Splitting an array\n",
    "my_array=np.array([1,2,3,4])\n",
    "print(np.array_split(my_array,2))"
   ]
  },
  {
   "cell_type": "code",
   "execution_count": 51,
   "id": "cd933436",
   "metadata": {},
   "outputs": [
    {
     "name": "stdout",
     "output_type": "stream",
     "text": [
      "(array([2], dtype=int64),)\n"
     ]
    }
   ],
   "source": [
    "# Searching for a value in an array using where() returns an index position\n",
    "my_array=np.array([1,2,3,4])\n",
    "print(np.where(my_array==3))"
   ]
  },
  {
   "cell_type": "code",
   "execution_count": 52,
   "id": "756c69e6",
   "metadata": {},
   "outputs": [
    {
     "name": "stdout",
     "output_type": "stream",
     "text": [
      "[10 20 39 45 65 69]\n"
     ]
    }
   ],
   "source": [
    "# Sorting the array using the sort()\n",
    "my_array=np.array([10,20,39,45,65,69])\n",
    "print(np.sort(my_array))"
   ]
  },
  {
   "cell_type": "code",
   "execution_count": 53,
   "id": "e701121a",
   "metadata": {},
   "outputs": [
    {
     "name": "stdout",
     "output_type": "stream",
     "text": [
      "[69 65 45 39 20 10]\n"
     ]
    }
   ],
   "source": [
    "# sorting in descending order\n",
    "my_array=np.array([10,20,39,45,65,69])\n",
    "print(np.sort(my_array)[::-1])"
   ]
  },
  {
   "cell_type": "code",
   "execution_count": 60,
   "id": "08c94e81",
   "metadata": {},
   "outputs": [],
   "source": [
    "# filtering an array\n",
    "my_array=np.array([10,20,39,45,65,69])\n",
    "filtered_array=my_array>30"
   ]
  },
  {
   "cell_type": "code",
   "execution_count": 61,
   "id": "b4c11d42",
   "metadata": {},
   "outputs": [
    {
     "data": {
      "text/plain": [
       "array([False, False,  True,  True,  True,  True])"
      ]
     },
     "execution_count": 61,
     "metadata": {},
     "output_type": "execute_result"
    }
   ],
   "source": [
    "filtered_array"
   ]
  },
  {
   "cell_type": "code",
   "execution_count": 62,
   "id": "ba18b230",
   "metadata": {},
   "outputs": [
    {
     "name": "stdout",
     "output_type": "stream",
     "text": [
      "[39 45 65 69]\n"
     ]
    }
   ],
   "source": [
    "print(my_array[filtered_array])"
   ]
  },
  {
   "cell_type": "code",
   "execution_count": 63,
   "id": "77a1e5f1",
   "metadata": {},
   "outputs": [
    {
     "data": {
      "text/plain": [
       "array([[0.05731252, 0.82308955, 0.71887757, 0.81427191, 0.15695701],\n",
       "       [0.60141349, 0.85144998, 0.53941569, 0.69341499, 0.31791902],\n",
       "       [0.63647039, 0.6038021 , 0.66229086, 0.94673612, 0.81635232],\n",
       "       [0.11570056, 0.21681951, 0.54933921, 0.05494618, 0.19322582],\n",
       "       [0.49316772, 0.42762102, 0.09763781, 0.92306272, 0.17429253]])"
      ]
     },
     "execution_count": 63,
     "metadata": {},
     "output_type": "execute_result"
    }
   ],
   "source": [
    "# create an array of 5x5 (Generates random numbers)\n",
    "np.random.rand(5,5)"
   ]
  },
  {
   "cell_type": "code",
   "execution_count": 64,
   "id": "8b62bce1",
   "metadata": {},
   "outputs": [
    {
     "name": "stdout",
     "output_type": "stream",
     "text": [
      "(6,)\n"
     ]
    }
   ],
   "source": [
    "print(my_array.shape)"
   ]
  },
  {
   "cell_type": "code",
   "execution_count": 65,
   "id": "28660593",
   "metadata": {},
   "outputs": [
    {
     "name": "stdout",
     "output_type": "stream",
     "text": [
      "(2, 4)\n"
     ]
    }
   ],
   "source": [
    "my_array=np.array([[1,2,3,4],[5,6,7,8]])\n",
    "print(my_array.shape)"
   ]
  },
  {
   "cell_type": "code",
   "execution_count": 66,
   "id": "e9b78fe7",
   "metadata": {},
   "outputs": [
    {
     "name": "stdout",
     "output_type": "stream",
     "text": [
      "[[1 2]\n",
      " [3 4]]\n"
     ]
    }
   ],
   "source": [
    "# Reshaping an array\n",
    "my_array=np.array([1,2,3,4])\n",
    "print(my_array.reshape(2,2))"
   ]
  },
  {
   "cell_type": "code",
   "execution_count": 67,
   "id": "5e1d1097",
   "metadata": {},
   "outputs": [
    {
     "name": "stdout",
     "output_type": "stream",
     "text": [
      "[[1 2 3 4 5 6 7 8]]\n"
     ]
    }
   ],
   "source": [
    "# Reshaping a multidim into a single array\n",
    "my_array=np.array([[1,2,3,4],[5,6,7,8]])\n",
    "print(my_array.reshape(1,8))"
   ]
  },
  {
   "cell_type": "code",
   "execution_count": null,
   "id": "73220b3d",
   "metadata": {},
   "outputs": [],
   "source": []
  }
 ],
 "metadata": {
  "kernelspec": {
   "display_name": "Python 3 (ipykernel)",
   "language": "python",
   "name": "python3"
  },
  "language_info": {
   "codemirror_mode": {
    "name": "ipython",
    "version": 3
   },
   "file_extension": ".py",
   "mimetype": "text/x-python",
   "name": "python",
   "nbconvert_exporter": "python",
   "pygments_lexer": "ipython3",
   "version": "3.9.13"
  }
 },
 "nbformat": 4,
 "nbformat_minor": 5
}
